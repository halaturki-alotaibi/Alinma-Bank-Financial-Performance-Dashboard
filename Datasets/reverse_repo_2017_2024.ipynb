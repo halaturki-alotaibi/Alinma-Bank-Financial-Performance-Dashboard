{
  "nbformat": 4,
  "nbformat_minor": 0,
  "metadata": {
    "colab": {
      "provenance": []
    },
    "kernelspec": {
      "name": "python3",
      "display_name": "Python 3"
    },
    "language_info": {
      "name": "python"
    }
  },
  "cells": [
    {
      "cell_type": "code",
      "execution_count": 10,
      "metadata": {
        "colab": {
          "base_uri": "https://localhost:8080/"
        },
        "id": "ivorzCW_kiEf",
        "outputId": "a9a6a989-c50b-46d8-b526-16f7f009f260"
      },
      "outputs": [
        {
          "output_type": "stream",
          "name": "stdout",
          "text": [
            "        Date  year  Reverse_Repo_Rate\n",
            "0 2017-01-01  2017               1.50\n",
            "1 2018-01-01  2018               2.50\n",
            "2 2019-01-01  2019               1.75\n",
            "3 2020-01-01  2020               0.50\n",
            "4 2021-01-01  2021               0.50\n",
            "5 2022-01-01  2022               4.50\n",
            "6 2023-01-01  2023               5.50\n",
            "7 2024-01-01  2024               4.50\n"
          ]
        },
        {
          "output_type": "stream",
          "name": "stderr",
          "text": [
            "/tmp/ipython-input-10-2795796955.py:12: UserWarning: Could not infer format, so each element will be parsed individually, falling back to `dateutil`. To ensure parsing is consistent and as-expected, please specify a format.\n",
            "  df['Date'] = pd.to_datetime(df['الفترة'], errors='coerce')\n"
          ]
        }
      ],
      "source": [
        "import pandas as pd\n",
        "\n",
        "# file path\n",
        "file_path = \"/content/SAMA_StatisticalReport_2025.csv\"\n",
        "\n",
        "# Reading the file:\n",
        "# The third row (index = 2) in this file contains the actual column names,\n",
        "# so we pass it to the header parameter\n",
        "df = pd.read_csv(file_path, header=2)\n",
        "\n",
        "# Convert the Period column to a valid date\n",
        "df['Date'] = pd.to_datetime(df['الفترة'], errors='coerce')\n",
        "df['year'] = pd.to_datetime(df['Date'], errors='coerce').dt.year.astype('Int64')\n",
        "\n",
        "\n",
        "# Clearance of the years from 2017 to 2024\n",
        "mask = df['Date'].dt.year.between(2017, 2024)\n",
        "\n",
        "# Extract the required column, rename it, and reindex the rows.\n",
        "reverse_repo = (\n",
        "    df.loc[mask, ['Date','year', 'إتفاقية إعادة الشراء المعاكس  (1)']]\n",
        "      .rename(columns={'إتفاقية إعادة الشراء المعاكس  (1)': 'Reverse_Repo_Rate'})\n",
        "      .reset_index(drop=True)\n",
        ")\n",
        "\n",
        "# Preview result\n",
        "print(reverse_repo)\n",
        "\n",
        "# Save it to a CSV file\n",
        "reverse_repo.to_csv(\"reverse_repo_2017_2024.csv\", index=False)"
      ]
    }
  ]
}