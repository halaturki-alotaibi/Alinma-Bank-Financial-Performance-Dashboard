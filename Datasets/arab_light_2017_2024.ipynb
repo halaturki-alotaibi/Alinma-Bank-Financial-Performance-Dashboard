{
  "nbformat": 4,
  "nbformat_minor": 0,
  "metadata": {
    "colab": {
      "provenance": []
    },
    "kernelspec": {
      "name": "python3",
      "display_name": "Python 3"
    },
    "language_info": {
      "name": "python"
    }
  },
  "cells": [
    {
      "cell_type": "code",
      "execution_count": 2,
      "metadata": {
        "colab": {
          "base_uri": "https://localhost:8080/"
        },
        "id": "HrFeSqHAm8H6",
        "outputId": "4e43b170-7c3c-42c2-f138-3c93e7d4aad6"
      },
      "outputs": [
        {
          "output_type": "stream",
          "name": "stdout",
          "text": [
            "   Year  Arab_Light_34\n",
            "0  2017          52.59\n",
            "1  2018          70.59\n",
            "2  2019          64.96\n",
            "3  2020          41.91\n",
            "4  2021          70.65\n",
            "5  2022         101.64\n",
            "6  2023          84.93\n",
            "7  2024          81.46\n"
          ]
        }
      ],
      "source": [
        "import pandas as pd\n",
        "\n",
        "# Original file\n",
        "file_path = \"/content/SAMA_StatisticalReport_2025.csv\"\n",
        "\n",
        "# Read the file and clean up the titles\n",
        "df = pd.read_csv(file_path, skiprows=[0], header=0, encoding='utf-8')\n",
        "df.columns = [c.strip() for c in df.columns]\n",
        "\n",
        "# Convert 'الفترة' to numeric, coercing errors, and drop rows with NaN\n",
        "df['الفترة'] = pd.to_numeric(df['الفترة'], errors='coerce')\n",
        "df.dropna(subset=['الفترة'], inplace=True)\n",
        "\n",
        "# Remove the last row which contains non-numeric data in the 'الفترة' column\n",
        "df = df[:-1]\n",
        "\n",
        "# Extract the period column and the price of the light Arab 2017-2022\n",
        "arab_light_col = 'عربي خفيف كثافة 34'\n",
        "base_years = df['الفترة'].astype(int).between(2017, 2022)\n",
        "arab_light_21_22 = df.loc[base_years, ['الفترة', arab_light_col]].copy()\n",
        "\n",
        "# Add calculated values ​​for 2023 and 2024\n",
        "extra_rows = pd.DataFrame({\n",
        "    'الفترة': [2023, 2024],\n",
        "    arab_light_col: [84.93, 81.46]   # Manually calculated annual averages\n",
        "})\n",
        "\n",
        "# Merge and arrange final data\n",
        "final_df = (\n",
        "    pd.concat([arab_light_21_22, extra_rows], ignore_index=True)\n",
        "      .sort_values('الفترة')\n",
        ")\n",
        "\n",
        "# Change column names\n",
        "final_df.columns = ['Date', 'Arab_Light_34']\n",
        "\n",
        "# Convert date column to date format\n",
        "final_df['Date'] = pd.to_datetime(final_df['Date'].astype(int), format='%Y')\n",
        "final_df['Year'] = final_df['Date'].dt.year\n",
        "final_df = final_df[['Year', 'Arab_Light_34']]\n",
        "\n",
        "# missing row 2022\n",
        "missing_row = pd.DataFrame({'Year': [2022], 'Arab_Light_34': [101.64]})\n",
        "final_df = pd.concat([final_df, missing_row], ignore_index=True).sort_values('Year').reset_index(drop=True)\n",
        "\n",
        "\n",
        "# Preview result\n",
        "print(final_df)\n",
        "\n",
        "# Save result\n",
        "final_df.to_csv('arab_light_2017_2024.csv', index=False)"
      ]
    }
  ]
}